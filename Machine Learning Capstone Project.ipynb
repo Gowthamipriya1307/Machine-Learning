{
 "cells": [
  {
   "cell_type": "markdown",
   "id": "2e745cda",
   "metadata": {},
   "source": [
    "# Introduction  \n",
    "\n",
    "This challenge is the **capstone project** of **Summer Analytics**, a primer course on Data Science, conducted by the **Consulting and Analytics Club of IIT Guwahati** during the summers.  \n",
    "\n",
    "The dataset is provided by **DeltaX**, a pioneering cross-channel digital advertising platform. The cloud-based platform leverages **big data, user behavior, and machine learning algorithms** to improve performance across the business funnel of advertisers.  \n"
   ]
  },
  {
   "cell_type": "markdown",
   "id": "d2a96876",
   "metadata": {},
   "source": [
    "# Problem Statement  \n",
    "\n",
    "Let's take a case where an advertiser on the platform (**DeltaX**) would like to estimate the performance of their campaign in the future.  \n",
    "\n",
    "Imagine it is the **first day of March**, and you are given the past performance data of ads from **August 1st to February 28th**.  \n",
    "\n",
    "Your task is to **predict an ad's future performance (revenue) between March 1st and March 15th**.  \n",
    "\n",
    "Well, it is now time for you to put on your **problem-solving hats** and start playing with the data provided under the \"data\" section. 🚀  \n"
   ]
  },
  {
   "cell_type": "markdown",
   "id": "d25bfa0d",
   "metadata": {},
   "source": [
    "# Loading Libraries"
   ]
  },
  {
   "cell_type": "code",
   "execution_count": 2,
   "id": "5df475f0",
   "metadata": {},
   "outputs": [],
   "source": [
    "# Importing Basic libraries to play with data and to construct EDA\n",
    "import pandas as pd\n",
    "import numpy as np\n",
    "import seaborn as sns\n",
    "import matplotlib.pyplot as plt\n",
    "\n",
    "# Importing Libraries to make a Model for the data\n",
    "from sklearn import tree\n",
    "from sklearn.model_selection import GridSearchCV\n",
    "from sklearn import preprocessing\n",
    "from sklearn.metrics import r2_score\n",
    "from sklearn.metrics import mean_squared_error\n",
    "\n",
    "# For plotting the regression tree\n",
    "from IPython.display import Image\n",
    "import pydotplus\n",
    "\n",
    "# To remove warnings\n",
    "import warnings\n",
    "warnings.filterwarnings('ignore')\n",
    "\n",
    "%matplotlib inline"
   ]
  },
  {
   "cell_type": "markdown",
   "id": "b4924c38",
   "metadata": {},
   "source": [
    "# Reading Data"
   ]
  },
  {
   "cell_type": "code",
   "execution_count": 3,
   "id": "fd5d93ab",
   "metadata": {},
   "outputs": [],
   "source": [
    "data_train=pd.read_csv('Train_Data.csv')"
   ]
  },
  {
   "cell_type": "code",
   "execution_count": 4,
   "id": "e8f1d50d",
   "metadata": {},
   "outputs": [],
   "source": [
    "data_test=pd.read_csv('Test_Data.csv')"
   ]
  },
  {
   "cell_type": "code",
   "execution_count": 5,
   "id": "d6db42c5",
   "metadata": {},
   "outputs": [
    {
     "data": {
      "text/html": [
       "<div>\n",
       "<style scoped>\n",
       "    .dataframe tbody tr th:only-of-type {\n",
       "        vertical-align: middle;\n",
       "    }\n",
       "\n",
       "    .dataframe tbody tr th {\n",
       "        vertical-align: top;\n",
       "    }\n",
       "\n",
       "    .dataframe thead th {\n",
       "        text-align: right;\n",
       "    }\n",
       "</style>\n",
       "<table border=\"1\" class=\"dataframe\">\n",
       "  <thead>\n",
       "    <tr style=\"text-align: right;\">\n",
       "      <th></th>\n",
       "      <th>date</th>\n",
       "      <th>campaign</th>\n",
       "      <th>adgroup</th>\n",
       "      <th>ad</th>\n",
       "      <th>impressions</th>\n",
       "      <th>clicks</th>\n",
       "      <th>cost</th>\n",
       "      <th>conversions</th>\n",
       "      <th>revenue</th>\n",
       "    </tr>\n",
       "  </thead>\n",
       "  <tbody>\n",
       "    <tr>\n",
       "      <th>0</th>\n",
       "      <td>01-08-2020</td>\n",
       "      <td>campaign 1</td>\n",
       "      <td>adgroup 1</td>\n",
       "      <td>ad 1</td>\n",
       "      <td>24</td>\n",
       "      <td>6</td>\n",
       "      <td>0.08</td>\n",
       "      <td>0</td>\n",
       "      <td>0.00</td>\n",
       "    </tr>\n",
       "    <tr>\n",
       "      <th>1</th>\n",
       "      <td>01-08-2020</td>\n",
       "      <td>campaign 1</td>\n",
       "      <td>adgroup 2</td>\n",
       "      <td>ad 1</td>\n",
       "      <td>1</td>\n",
       "      <td>0</td>\n",
       "      <td>0.00</td>\n",
       "      <td>0</td>\n",
       "      <td>0.00</td>\n",
       "    </tr>\n",
       "    <tr>\n",
       "      <th>2</th>\n",
       "      <td>01-08-2020</td>\n",
       "      <td>campaign 1</td>\n",
       "      <td>adgroup 3</td>\n",
       "      <td>ad 1</td>\n",
       "      <td>13</td>\n",
       "      <td>4</td>\n",
       "      <td>0.04</td>\n",
       "      <td>0</td>\n",
       "      <td>0.00</td>\n",
       "    </tr>\n",
       "    <tr>\n",
       "      <th>3</th>\n",
       "      <td>01-08-2020</td>\n",
       "      <td>campaign 1</td>\n",
       "      <td>adgroup 4</td>\n",
       "      <td>ad 1</td>\n",
       "      <td>5</td>\n",
       "      <td>4</td>\n",
       "      <td>0.08</td>\n",
       "      <td>0</td>\n",
       "      <td>0.00</td>\n",
       "    </tr>\n",
       "    <tr>\n",
       "      <th>4</th>\n",
       "      <td>01-08-2020</td>\n",
       "      <td>campaign 1</td>\n",
       "      <td>adgroup 1</td>\n",
       "      <td>ad 2</td>\n",
       "      <td>247</td>\n",
       "      <td>126</td>\n",
       "      <td>1.29</td>\n",
       "      <td>4</td>\n",
       "      <td>925.71</td>\n",
       "    </tr>\n",
       "  </tbody>\n",
       "</table>\n",
       "</div>"
      ],
      "text/plain": [
       "         date    campaign    adgroup    ad  impressions  clicks  cost  \\\n",
       "0  01-08-2020  campaign 1  adgroup 1  ad 1           24       6  0.08   \n",
       "1  01-08-2020  campaign 1  adgroup 2  ad 1            1       0  0.00   \n",
       "2  01-08-2020  campaign 1  adgroup 3  ad 1           13       4  0.04   \n",
       "3  01-08-2020  campaign 1  adgroup 4  ad 1            5       4  0.08   \n",
       "4  01-08-2020  campaign 1  adgroup 1  ad 2          247     126  1.29   \n",
       "\n",
       "   conversions  revenue  \n",
       "0            0     0.00  \n",
       "1            0     0.00  \n",
       "2            0     0.00  \n",
       "3            0     0.00  \n",
       "4            4   925.71  "
      ]
     },
     "execution_count": 5,
     "metadata": {},
     "output_type": "execute_result"
    }
   ],
   "source": [
    "data_train.head()"
   ]
  },
  {
   "cell_type": "code",
   "execution_count": 6,
   "id": "d8255ea2",
   "metadata": {},
   "outputs": [
    {
     "data": {
      "text/html": [
       "<div>\n",
       "<style scoped>\n",
       "    .dataframe tbody tr th:only-of-type {\n",
       "        vertical-align: middle;\n",
       "    }\n",
       "\n",
       "    .dataframe tbody tr th {\n",
       "        vertical-align: top;\n",
       "    }\n",
       "\n",
       "    .dataframe thead th {\n",
       "        text-align: right;\n",
       "    }\n",
       "</style>\n",
       "<table border=\"1\" class=\"dataframe\">\n",
       "  <thead>\n",
       "    <tr style=\"text-align: right;\">\n",
       "      <th></th>\n",
       "      <th>date</th>\n",
       "      <th>campaign</th>\n",
       "      <th>adgroup</th>\n",
       "      <th>ad</th>\n",
       "      <th>cost</th>\n",
       "      <th>impressions</th>\n",
       "      <th>clicks</th>\n",
       "      <th>conversions</th>\n",
       "    </tr>\n",
       "  </thead>\n",
       "  <tbody>\n",
       "    <tr>\n",
       "      <th>0</th>\n",
       "      <td>01-03-2021</td>\n",
       "      <td>campaign 1</td>\n",
       "      <td>adgroup 1</td>\n",
       "      <td>ad 1</td>\n",
       "      <td>0.58</td>\n",
       "      <td>121</td>\n",
       "      <td>49</td>\n",
       "      <td>1</td>\n",
       "    </tr>\n",
       "    <tr>\n",
       "      <th>1</th>\n",
       "      <td>01-03-2021</td>\n",
       "      <td>campaign 1</td>\n",
       "      <td>adgroup 3</td>\n",
       "      <td>ad 1</td>\n",
       "      <td>0.17</td>\n",
       "      <td>22</td>\n",
       "      <td>12</td>\n",
       "      <td>0</td>\n",
       "    </tr>\n",
       "    <tr>\n",
       "      <th>2</th>\n",
       "      <td>01-03-2021</td>\n",
       "      <td>campaign 1</td>\n",
       "      <td>adgroup 4</td>\n",
       "      <td>ad 1</td>\n",
       "      <td>0.05</td>\n",
       "      <td>5</td>\n",
       "      <td>3</td>\n",
       "      <td>0</td>\n",
       "    </tr>\n",
       "    <tr>\n",
       "      <th>3</th>\n",
       "      <td>01-03-2021</td>\n",
       "      <td>campaign 1</td>\n",
       "      <td>adgroup 2</td>\n",
       "      <td>ad 1</td>\n",
       "      <td>0.01</td>\n",
       "      <td>2</td>\n",
       "      <td>1</td>\n",
       "      <td>0</td>\n",
       "    </tr>\n",
       "    <tr>\n",
       "      <th>4</th>\n",
       "      <td>01-03-2021</td>\n",
       "      <td>campaign 1</td>\n",
       "      <td>adgroup 2</td>\n",
       "      <td>ad 2</td>\n",
       "      <td>0.01</td>\n",
       "      <td>3</td>\n",
       "      <td>1</td>\n",
       "      <td>0</td>\n",
       "    </tr>\n",
       "  </tbody>\n",
       "</table>\n",
       "</div>"
      ],
      "text/plain": [
       "         date    campaign    adgroup    ad  cost  impressions  clicks  \\\n",
       "0  01-03-2021  campaign 1  adgroup 1  ad 1  0.58          121      49   \n",
       "1  01-03-2021  campaign 1  adgroup 3  ad 1  0.17           22      12   \n",
       "2  01-03-2021  campaign 1  adgroup 4  ad 1  0.05            5       3   \n",
       "3  01-03-2021  campaign 1  adgroup 2  ad 1  0.01            2       1   \n",
       "4  01-03-2021  campaign 1  adgroup 2  ad 2  0.01            3       1   \n",
       "\n",
       "   conversions  \n",
       "0            1  \n",
       "1            0  \n",
       "2            0  \n",
       "3            0  \n",
       "4            0  "
      ]
     },
     "execution_count": 6,
     "metadata": {},
     "output_type": "execute_result"
    }
   ],
   "source": [
    "data_test.head()"
   ]
  },
  {
   "cell_type": "markdown",
   "id": "2e99b319",
   "metadata": {},
   "source": [
    "# Data Description\n",
    "\n",
    "## Features  \n",
    "- **date** : The date on which the ad was made live  \n",
    "- **campaign** : Campaign number  \n",
    "- **adgroup** : Ad group number  \n",
    "- **ad** : Ad number  \n",
    "- **impressions** : Number of times the ad was shown  \n",
    "- **clicks** : Number of times the ad was clicked  \n",
    "- **cost** : Amount spent to show the ad  \n",
    "- **conversions** : Number of transactions received  \n",
    "- **revenue** : Revenue generated from the ad  \n",
    "\n",
    "## Goal  \n",
    "Our goal is to predict the **revenue** from the test data while minimizing the **Root Mean Squared Error (RMSE)**.\n"
   ]
  },
  {
   "cell_type": "markdown",
   "id": "c555b662",
   "metadata": {},
   "source": [
    "# File Structure and Content"
   ]
  },
  {
   "cell_type": "code",
   "execution_count": 7,
   "id": "e60cf773",
   "metadata": {},
   "outputs": [
    {
     "name": "stdout",
     "output_type": "stream",
     "text": [
      "Row:  4571\n",
      "Col:  9\n"
     ]
    }
   ],
   "source": [
    "print(\"Row: \", data_train.shape[0])\n",
    "print(\"Col: \", data_train.shape[1])"
   ]
  },
  {
   "cell_type": "code",
   "execution_count": 8,
   "id": "78e84476",
   "metadata": {},
   "outputs": [
    {
     "name": "stdout",
     "output_type": "stream",
     "text": [
      "Row:  318\n",
      "Col:  8\n"
     ]
    }
   ],
   "source": [
    "print(\"Row: \", data_test.shape[0])\n",
    "print(\"Col: \", data_test.shape[1])"
   ]
  },
  {
   "cell_type": "code",
   "execution_count": 9,
   "id": "0a756cd8",
   "metadata": {},
   "outputs": [
    {
     "name": "stdout",
     "output_type": "stream",
     "text": [
      "<class 'pandas.core.frame.DataFrame'>\n",
      "RangeIndex: 4571 entries, 0 to 4570\n",
      "Data columns (total 9 columns):\n",
      " #   Column       Non-Null Count  Dtype  \n",
      "---  ------       --------------  -----  \n",
      " 0   date         4571 non-null   object \n",
      " 1   campaign     4571 non-null   object \n",
      " 2   adgroup      4571 non-null   object \n",
      " 3   ad           4571 non-null   object \n",
      " 4   impressions  4571 non-null   int64  \n",
      " 5   clicks       4571 non-null   int64  \n",
      " 6   cost         4571 non-null   float64\n",
      " 7   conversions  4571 non-null   int64  \n",
      " 8   revenue      4571 non-null   float64\n",
      "dtypes: float64(2), int64(3), object(4)\n",
      "memory usage: 321.5+ KB\n"
     ]
    }
   ],
   "source": [
    "data_train.info()"
   ]
  },
  {
   "cell_type": "code",
   "execution_count": 10,
   "id": "de3c6fa0",
   "metadata": {},
   "outputs": [
    {
     "name": "stdout",
     "output_type": "stream",
     "text": [
      "<class 'pandas.core.frame.DataFrame'>\n",
      "RangeIndex: 318 entries, 0 to 317\n",
      "Data columns (total 8 columns):\n",
      " #   Column       Non-Null Count  Dtype  \n",
      "---  ------       --------------  -----  \n",
      " 0   date         318 non-null    object \n",
      " 1   campaign     318 non-null    object \n",
      " 2   adgroup      318 non-null    object \n",
      " 3   ad           318 non-null    object \n",
      " 4   cost         318 non-null    float64\n",
      " 5   impressions  318 non-null    int64  \n",
      " 6   clicks       318 non-null    int64  \n",
      " 7   conversions  318 non-null    int64  \n",
      "dtypes: float64(1), int64(3), object(4)\n",
      "memory usage: 20.0+ KB\n"
     ]
    }
   ],
   "source": [
    "data_test.info()"
   ]
  },
  {
   "cell_type": "markdown",
   "id": "b090de04",
   "metadata": {},
   "source": [
    "#Summary:\n",
    "\n",
    "The data_train data have 4571 rows and 9 columns.\n",
    "The data_test data have 318 rows and 8 columns.\n",
    "There are no missing data in both data_train and data_test."
   ]
  },
  {
   "cell_type": "markdown",
   "id": "3f36f0ed",
   "metadata": {},
   "source": [
    "# Exploratory Data Analysis(EDA)"
   ]
  },
  {
   "cell_type": "code",
   "execution_count": 11,
   "id": "18358461",
   "metadata": {},
   "outputs": [
    {
     "data": {
      "text/html": [
       "<div>\n",
       "<style scoped>\n",
       "    .dataframe tbody tr th:only-of-type {\n",
       "        vertical-align: middle;\n",
       "    }\n",
       "\n",
       "    .dataframe tbody tr th {\n",
       "        vertical-align: top;\n",
       "    }\n",
       "\n",
       "    .dataframe thead th {\n",
       "        text-align: right;\n",
       "    }\n",
       "</style>\n",
       "<table border=\"1\" class=\"dataframe\">\n",
       "  <thead>\n",
       "    <tr style=\"text-align: right;\">\n",
       "      <th></th>\n",
       "      <th>impressions</th>\n",
       "      <th>clicks</th>\n",
       "      <th>cost</th>\n",
       "      <th>conversions</th>\n",
       "      <th>revenue</th>\n",
       "    </tr>\n",
       "  </thead>\n",
       "  <tbody>\n",
       "    <tr>\n",
       "      <th>count</th>\n",
       "      <td>4571.000000</td>\n",
       "      <td>4571.000000</td>\n",
       "      <td>4571.000000</td>\n",
       "      <td>4571.000000</td>\n",
       "      <td>4571.000000</td>\n",
       "    </tr>\n",
       "    <tr>\n",
       "      <th>mean</th>\n",
       "      <td>92.635747</td>\n",
       "      <td>43.340844</td>\n",
       "      <td>2.800834</td>\n",
       "      <td>1.339094</td>\n",
       "      <td>231.865340</td>\n",
       "    </tr>\n",
       "    <tr>\n",
       "      <th>std</th>\n",
       "      <td>198.349737</td>\n",
       "      <td>100.164913</td>\n",
       "      <td>14.361618</td>\n",
       "      <td>5.223922</td>\n",
       "      <td>1091.742763</td>\n",
       "    </tr>\n",
       "    <tr>\n",
       "      <th>min</th>\n",
       "      <td>1.000000</td>\n",
       "      <td>0.000000</td>\n",
       "      <td>0.000000</td>\n",
       "      <td>0.000000</td>\n",
       "      <td>0.000000</td>\n",
       "    </tr>\n",
       "    <tr>\n",
       "      <th>25%</th>\n",
       "      <td>6.000000</td>\n",
       "      <td>2.000000</td>\n",
       "      <td>0.040000</td>\n",
       "      <td>0.000000</td>\n",
       "      <td>0.000000</td>\n",
       "    </tr>\n",
       "    <tr>\n",
       "      <th>50%</th>\n",
       "      <td>16.000000</td>\n",
       "      <td>7.000000</td>\n",
       "      <td>0.210000</td>\n",
       "      <td>0.000000</td>\n",
       "      <td>0.000000</td>\n",
       "    </tr>\n",
       "    <tr>\n",
       "      <th>75%</th>\n",
       "      <td>84.000000</td>\n",
       "      <td>38.000000</td>\n",
       "      <td>1.350000</td>\n",
       "      <td>1.000000</td>\n",
       "      <td>92.600000</td>\n",
       "    </tr>\n",
       "    <tr>\n",
       "      <th>max</th>\n",
       "      <td>3239.000000</td>\n",
       "      <td>1771.000000</td>\n",
       "      <td>531.250000</td>\n",
       "      <td>94.000000</td>\n",
       "      <td>20515.410000</td>\n",
       "    </tr>\n",
       "  </tbody>\n",
       "</table>\n",
       "</div>"
      ],
      "text/plain": [
       "       impressions       clicks         cost  conversions       revenue\n",
       "count  4571.000000  4571.000000  4571.000000  4571.000000   4571.000000\n",
       "mean     92.635747    43.340844     2.800834     1.339094    231.865340\n",
       "std     198.349737   100.164913    14.361618     5.223922   1091.742763\n",
       "min       1.000000     0.000000     0.000000     0.000000      0.000000\n",
       "25%       6.000000     2.000000     0.040000     0.000000      0.000000\n",
       "50%      16.000000     7.000000     0.210000     0.000000      0.000000\n",
       "75%      84.000000    38.000000     1.350000     1.000000     92.600000\n",
       "max    3239.000000  1771.000000   531.250000    94.000000  20515.410000"
      ]
     },
     "execution_count": 11,
     "metadata": {},
     "output_type": "execute_result"
    }
   ],
   "source": [
    "data_train.describe()"
   ]
  },
  {
   "cell_type": "code",
   "execution_count": 12,
   "id": "60e615ff",
   "metadata": {},
   "outputs": [
    {
     "data": {
      "image/png": "[encoded data removed]",
      "text/plain": [
       "<Figure size 432x288 with 1 Axes>"
      ]
     },
     "metadata": {
      "needs_background": "light"
     },
     "output_type": "display_data"
    }
   ],
   "source": [
    "sns.countplot(\"adgroup\", data = data_train);"
   ]
  },
  {
   "cell_type": "markdown",
   "id": "58d8766e",
   "metadata": {},
   "source": [
    "There are 4 adgroups in adgroup column which will be converted into numerical variable by creating dummy variable."
   ]
  },
  {
   "cell_type": "code",
   "execution_count": 13,
   "id": "e373ce8f",
   "metadata": {},
   "outputs": [
    {
     "data": {
      "image/png": "[encoded data removed]",
      "text/plain": [
       "<Figure size 432x288 with 1 Axes>"
      ]
     },
     "metadata": {
      "needs_background": "light"
     },
     "output_type": "display_data"
    }
   ],
   "source": [
    "sns.countplot(\"campaign\", data = data_train);"
   ]
  },
  {
   "cell_type": "markdown",
   "id": "a5cac58a",
   "metadata": {},
   "source": [
    "We can see that there is only 1 campaign. So taking campaign column into consideration is meaningless."
   ]
  },
  {
   "cell_type": "code",
   "execution_count": 14,
   "id": "8defecbc",
   "metadata": {},
   "outputs": [
    {
     "data": {
      "text/plain": [
       "ad 51      3\n",
       "ad 69      4\n",
       "ad 36      4\n",
       "ad 47      4\n",
       "ad 24      4\n",
       "        ... \n",
       "ad 32    377\n",
       "ad 7     461\n",
       "ad 2     512\n",
       "ad 1     587\n",
       "ad 3     617\n",
       "Name: ad, Length: 70, dtype: int64"
      ]
     },
     "execution_count": 14,
     "metadata": {},
     "output_type": "execute_result"
    }
   ],
   "source": [
    "data_train[\"ad\"].value_counts().sort_values()"
   ]
  },
  {
   "cell_type": "markdown",
   "id": "a9e040e5",
   "metadata": {},
   "source": [
    "There are 70 types of ads in ad column in data_train."
   ]
  },
  {
   "cell_type": "code",
   "execution_count": 15,
   "id": "eaa1f47b",
   "metadata": {},
   "outputs": [
    {
     "data": {
      "image/png": "[encoded data removed]",
      "text/plain": [
       "<Figure size 720x180 with 4 Axes>"
      ]
     },
     "metadata": {
      "needs_background": "light"
     },
     "output_type": "display_data"
    }
   ],
   "source": [
    "#variation of revenue with each numerical column\n",
    "sns.pairplot(data_train, y_vars=[\"revenue\"], x_vars=[\"clicks\", \"impressions\", \"cost\", \"conversions\"])\n",
    "plt.show()"
   ]
  },
  {
   "cell_type": "markdown",
   "id": "8806fe1f",
   "metadata": {},
   "source": [
    "The relationships between variables do not appear to be strictly linear."
   ]
  },
  {
   "cell_type": "code",
   "execution_count": 16,
   "id": "e089e5c4",
   "metadata": {},
   "outputs": [
    {
     "data": {
      "image/png": "[encoded data removed]",
      "text/plain": [
       "<Figure size 432x288 with 1 Axes>"
      ]
     },
     "metadata": {
      "needs_background": "light"
     },
     "output_type": "display_data"
    }
   ],
   "source": [
    "sns.scatterplot(x = \"adgroup\", y = \"revenue\", data = data_train);"
   ]
  },
  {
   "cell_type": "code",
   "execution_count": 17,
   "id": "6ace6a8b",
   "metadata": {},
   "outputs": [
    {
     "data": {
      "image/png": "[encoded data removed]",
      "text/plain": [
       "<Figure size 720x360 with 2 Axes>"
      ]
     },
     "metadata": {
      "needs_background": "light"
     },
     "output_type": "display_data"
    }
   ],
   "source": [
    "plt.figure(figsize=(10, 5))\n",
    "plt.title(\"Correlation Analysis\")\n",
    "sns.heatmap(data_train.corr(), annot = True);"
   ]
  },
  {
   "cell_type": "markdown",
   "id": "5693f899",
   "metadata": {},
   "source": [
    "- The variable **conversion** is highly **positively correlated** with our target variable **revenue**.  \n",
    "- The variable **cost** has the **least positive correlation** with revenue.  \n",
    "- There is only a **positive relationship** between the variables in our dataset.  "
   ]
  },
  {
   "cell_type": "code",
   "execution_count": 18,
   "id": "a8681bce",
   "metadata": {},
   "outputs": [
    {
     "data": {
      "text/plain": [
       "<AxesSubplot:ylabel='revenue'>"
      ]
     },
     "execution_count": 18,
     "metadata": {},
     "output_type": "execute_result"
    },
    {
     "data": {
      "image/png": "[encoded data removed]",
      "text/plain": [
       "<Figure size 432x288 with 1 Axes>"
      ]
     },
     "metadata": {
      "needs_background": "light"
     },
     "output_type": "display_data"
    }
   ],
   "source": [
    "plt.figure(figsize=(6, 4))\n",
    "sns.boxplot(y=data_train[\"revenue\"], color=\"skyblue\")"
   ]
  },
  {
   "cell_type": "markdown",
   "id": "6684a466",
   "metadata": {},
   "source": [
    "There are outliers above upper whisker.To make skewed distribution normal let us apply log transformation"
   ]
  },
  {
   "cell_type": "code",
   "execution_count": 19,
   "id": "f244c630",
   "metadata": {},
   "outputs": [
    {
     "data": {
      "text/plain": [
       "<AxesSubplot:ylabel='log_revenue'>"
      ]
     },
     "execution_count": 19,
     "metadata": {},
     "output_type": "execute_result"
    },
    {
     "data": {
      "image/png": "[encoded data removed]",
      "text/plain": [
       "<Figure size 432x288 with 1 Axes>"
      ]
     },
     "metadata": {
      "needs_background": "light"
     },
     "output_type": "display_data"
    }
   ],
   "source": [
    "data_train[\"log_revenue\"] = np.log1p(data_train[\"revenue\"])  # log1p handles zero values well\n",
    "\n",
    "plt.figure(figsize=(6, 4))\n",
    "sns.boxplot(y=data_train[\"log_revenue\"], color=\"skyblue\")\n"
   ]
  },
  {
   "cell_type": "markdown",
   "id": "d6c8e678",
   "metadata": {},
   "source": [
    "# Adding Features"
   ]
  },
  {
   "cell_type": "code",
   "execution_count": 20,
   "id": "83b42bd1",
   "metadata": {},
   "outputs": [
    {
     "data": {
      "text/html": [
       "<div>\n",
       "<style scoped>\n",
       "    .dataframe tbody tr th:only-of-type {\n",
       "        vertical-align: middle;\n",
       "    }\n",
       "\n",
       "    .dataframe tbody tr th {\n",
       "        vertical-align: top;\n",
       "    }\n",
       "\n",
       "    .dataframe thead th {\n",
       "        text-align: right;\n",
       "    }\n",
       "</style>\n",
       "<table border=\"1\" class=\"dataframe\">\n",
       "  <thead>\n",
       "    <tr style=\"text-align: right;\">\n",
       "      <th></th>\n",
       "      <th>date</th>\n",
       "      <th>campaign</th>\n",
       "      <th>adgroup</th>\n",
       "      <th>ad</th>\n",
       "      <th>impressions</th>\n",
       "      <th>clicks</th>\n",
       "      <th>cost</th>\n",
       "      <th>conversions</th>\n",
       "      <th>revenue</th>\n",
       "      <th>log_revenue</th>\n",
       "      <th>CTR</th>\n",
       "      <th>CPC</th>\n",
       "      <th>CPA</th>\n",
       "    </tr>\n",
       "  </thead>\n",
       "  <tbody>\n",
       "    <tr>\n",
       "      <th>0</th>\n",
       "      <td>01-08-2020</td>\n",
       "      <td>campaign 1</td>\n",
       "      <td>adgroup 1</td>\n",
       "      <td>ad 1</td>\n",
       "      <td>24</td>\n",
       "      <td>6</td>\n",
       "      <td>0.08</td>\n",
       "      <td>0</td>\n",
       "      <td>0.00</td>\n",
       "      <td>0.000000</td>\n",
       "      <td>0.250000</td>\n",
       "      <td>0.013333</td>\n",
       "      <td>inf</td>\n",
       "    </tr>\n",
       "    <tr>\n",
       "      <th>1</th>\n",
       "      <td>01-08-2020</td>\n",
       "      <td>campaign 1</td>\n",
       "      <td>adgroup 2</td>\n",
       "      <td>ad 1</td>\n",
       "      <td>1</td>\n",
       "      <td>0</td>\n",
       "      <td>0.00</td>\n",
       "      <td>0</td>\n",
       "      <td>0.00</td>\n",
       "      <td>0.000000</td>\n",
       "      <td>0.000000</td>\n",
       "      <td>NaN</td>\n",
       "      <td>NaN</td>\n",
       "    </tr>\n",
       "    <tr>\n",
       "      <th>2</th>\n",
       "      <td>01-08-2020</td>\n",
       "      <td>campaign 1</td>\n",
       "      <td>adgroup 3</td>\n",
       "      <td>ad 1</td>\n",
       "      <td>13</td>\n",
       "      <td>4</td>\n",
       "      <td>0.04</td>\n",
       "      <td>0</td>\n",
       "      <td>0.00</td>\n",
       "      <td>0.000000</td>\n",
       "      <td>0.307692</td>\n",
       "      <td>0.010000</td>\n",
       "      <td>inf</td>\n",
       "    </tr>\n",
       "    <tr>\n",
       "      <th>3</th>\n",
       "      <td>01-08-2020</td>\n",
       "      <td>campaign 1</td>\n",
       "      <td>adgroup 4</td>\n",
       "      <td>ad 1</td>\n",
       "      <td>5</td>\n",
       "      <td>4</td>\n",
       "      <td>0.08</td>\n",
       "      <td>0</td>\n",
       "      <td>0.00</td>\n",
       "      <td>0.000000</td>\n",
       "      <td>0.800000</td>\n",
       "      <td>0.020000</td>\n",
       "      <td>inf</td>\n",
       "    </tr>\n",
       "    <tr>\n",
       "      <th>4</th>\n",
       "      <td>01-08-2020</td>\n",
       "      <td>campaign 1</td>\n",
       "      <td>adgroup 1</td>\n",
       "      <td>ad 2</td>\n",
       "      <td>247</td>\n",
       "      <td>126</td>\n",
       "      <td>1.29</td>\n",
       "      <td>4</td>\n",
       "      <td>925.71</td>\n",
       "      <td>6.831641</td>\n",
       "      <td>0.510121</td>\n",
       "      <td>0.010238</td>\n",
       "      <td>0.3225</td>\n",
       "    </tr>\n",
       "  </tbody>\n",
       "</table>\n",
       "</div>"
      ],
      "text/plain": [
       "         date    campaign    adgroup    ad  impressions  clicks  cost  \\\n",
       "0  01-08-2020  campaign 1  adgroup 1  ad 1           24       6  0.08   \n",
       "1  01-08-2020  campaign 1  adgroup 2  ad 1            1       0  0.00   \n",
       "2  01-08-2020  campaign 1  adgroup 3  ad 1           13       4  0.04   \n",
       "3  01-08-2020  campaign 1  adgroup 4  ad 1            5       4  0.08   \n",
       "4  01-08-2020  campaign 1  adgroup 1  ad 2          247     126  1.29   \n",
       "\n",
       "   conversions  revenue  log_revenue       CTR       CPC     CPA  \n",
       "0            0     0.00     0.000000  0.250000  0.013333     inf  \n",
       "1            0     0.00     0.000000  0.000000       NaN     NaN  \n",
       "2            0     0.00     0.000000  0.307692  0.010000     inf  \n",
       "3            0     0.00     0.000000  0.800000  0.020000     inf  \n",
       "4            4   925.71     6.831641  0.510121  0.010238  0.3225  "
      ]
     },
     "execution_count": 20,
     "metadata": {},
     "output_type": "execute_result"
    }
   ],
   "source": [
    "def Add(x):\n",
    "    x[\"CTR\"] = x[\"clicks\"] / x[\"impressions\"]\n",
    "    x[\"CPC\"] = x[\"cost\"] / x[\"clicks\"]\n",
    "    x[\"CPA\"] = x[\"cost\"] / x[\"conversions\"]\n",
    "    return x\n",
    "\n",
    "Add(data_train)\n",
    "Add(data_test)\n",
    "data_train.head()"
   ]
  },
  {
   "cell_type": "code",
   "execution_count": 21,
   "id": "1476efc6",
   "metadata": {},
   "outputs": [],
   "source": [
    "data_train = data_train.replace(np.inf, np.nan)\n",
    "data_train = data_train.fillna(0)\n",
    "data_test = data_test.replace(np.inf, np.nan)\n",
    "data_test = data_test.fillna(0)"
   ]
  },
  {
   "cell_type": "code",
   "execution_count": 22,
   "id": "fe0dfcd7",
   "metadata": {},
   "outputs": [
    {
     "data": {
      "text/plain": [
       "date           0\n",
       "campaign       0\n",
       "adgroup        0\n",
       "ad             0\n",
       "impressions    0\n",
       "clicks         0\n",
       "cost           0\n",
       "conversions    0\n",
       "revenue        0\n",
       "log_revenue    0\n",
       "CTR            0\n",
       "CPC            0\n",
       "CPA            0\n",
       "dtype: int64"
      ]
     },
     "execution_count": 22,
     "metadata": {},
     "output_type": "execute_result"
    }
   ],
   "source": [
    "data_train.isnull().sum()"
   ]
  },
  {
   "cell_type": "code",
   "execution_count": 23,
   "id": "3cd2de71",
   "metadata": {},
   "outputs": [
    {
     "data": {
      "text/html": [
       "<div>\n",
       "<style scoped>\n",
       "    .dataframe tbody tr th:only-of-type {\n",
       "        vertical-align: middle;\n",
       "    }\n",
       "\n",
       "    .dataframe tbody tr th {\n",
       "        vertical-align: top;\n",
       "    }\n",
       "\n",
       "    .dataframe thead th {\n",
       "        text-align: right;\n",
       "    }\n",
       "</style>\n",
       "<table border=\"1\" class=\"dataframe\">\n",
       "  <thead>\n",
       "    <tr style=\"text-align: right;\">\n",
       "      <th></th>\n",
       "      <th>impressions</th>\n",
       "      <th>clicks</th>\n",
       "      <th>cost</th>\n",
       "      <th>conversions</th>\n",
       "      <th>revenue</th>\n",
       "      <th>log_revenue</th>\n",
       "      <th>CTR</th>\n",
       "      <th>CPC</th>\n",
       "      <th>CPA</th>\n",
       "    </tr>\n",
       "  </thead>\n",
       "  <tbody>\n",
       "    <tr>\n",
       "      <th>count</th>\n",
       "      <td>4571.000000</td>\n",
       "      <td>4571.000000</td>\n",
       "      <td>4571.000000</td>\n",
       "      <td>4571.000000</td>\n",
       "      <td>4571.000000</td>\n",
       "      <td>4571.000000</td>\n",
       "      <td>4571.000000</td>\n",
       "      <td>4571.000000</td>\n",
       "      <td>4571.000000</td>\n",
       "    </tr>\n",
       "    <tr>\n",
       "      <th>mean</th>\n",
       "      <td>92.635747</td>\n",
       "      <td>43.340844</td>\n",
       "      <td>2.800834</td>\n",
       "      <td>1.339094</td>\n",
       "      <td>231.865340</td>\n",
       "      <td>1.711713</td>\n",
       "      <td>0.439934</td>\n",
       "      <td>0.059030</td>\n",
       "      <td>0.556686</td>\n",
       "    </tr>\n",
       "    <tr>\n",
       "      <th>std</th>\n",
       "      <td>198.349737</td>\n",
       "      <td>100.164913</td>\n",
       "      <td>14.361618</td>\n",
       "      <td>5.223922</td>\n",
       "      <td>1091.742763</td>\n",
       "      <td>2.719254</td>\n",
       "      <td>0.232061</td>\n",
       "      <td>0.135018</td>\n",
       "      <td>2.011103</td>\n",
       "    </tr>\n",
       "    <tr>\n",
       "      <th>min</th>\n",
       "      <td>1.000000</td>\n",
       "      <td>0.000000</td>\n",
       "      <td>0.000000</td>\n",
       "      <td>0.000000</td>\n",
       "      <td>0.000000</td>\n",
       "      <td>0.000000</td>\n",
       "      <td>0.000000</td>\n",
       "      <td>0.000000</td>\n",
       "      <td>0.000000</td>\n",
       "    </tr>\n",
       "    <tr>\n",
       "      <th>25%</th>\n",
       "      <td>6.000000</td>\n",
       "      <td>2.000000</td>\n",
       "      <td>0.040000</td>\n",
       "      <td>0.000000</td>\n",
       "      <td>0.000000</td>\n",
       "      <td>0.000000</td>\n",
       "      <td>0.333333</td>\n",
       "      <td>0.010610</td>\n",
       "      <td>0.000000</td>\n",
       "    </tr>\n",
       "    <tr>\n",
       "      <th>50%</th>\n",
       "      <td>16.000000</td>\n",
       "      <td>7.000000</td>\n",
       "      <td>0.210000</td>\n",
       "      <td>0.000000</td>\n",
       "      <td>0.000000</td>\n",
       "      <td>0.000000</td>\n",
       "      <td>0.451389</td>\n",
       "      <td>0.015556</td>\n",
       "      <td>0.000000</td>\n",
       "    </tr>\n",
       "    <tr>\n",
       "      <th>75%</th>\n",
       "      <td>84.000000</td>\n",
       "      <td>38.000000</td>\n",
       "      <td>1.350000</td>\n",
       "      <td>1.000000</td>\n",
       "      <td>92.600000</td>\n",
       "      <td>4.539010</td>\n",
       "      <td>0.533333</td>\n",
       "      <td>0.055000</td>\n",
       "      <td>0.220000</td>\n",
       "    </tr>\n",
       "    <tr>\n",
       "      <th>max</th>\n",
       "      <td>3239.000000</td>\n",
       "      <td>1771.000000</td>\n",
       "      <td>531.250000</td>\n",
       "      <td>94.000000</td>\n",
       "      <td>20515.410000</td>\n",
       "      <td>9.928980</td>\n",
       "      <td>2.000000</td>\n",
       "      <td>3.810000</td>\n",
       "      <td>57.450000</td>\n",
       "    </tr>\n",
       "  </tbody>\n",
       "</table>\n",
       "</div>"
      ],
      "text/plain": [
       "       impressions       clicks         cost  conversions       revenue  \\\n",
       "count  4571.000000  4571.000000  4571.000000  4571.000000   4571.000000   \n",
       "mean     92.635747    43.340844     2.800834     1.339094    231.865340   \n",
       "std     198.349737   100.164913    14.361618     5.223922   1091.742763   \n",
       "min       1.000000     0.000000     0.000000     0.000000      0.000000   \n",
       "25%       6.000000     2.000000     0.040000     0.000000      0.000000   \n",
       "50%      16.000000     7.000000     0.210000     0.000000      0.000000   \n",
       "75%      84.000000    38.000000     1.350000     1.000000     92.600000   \n",
       "max    3239.000000  1771.000000   531.250000    94.000000  20515.410000   \n",
       "\n",
       "       log_revenue          CTR          CPC          CPA  \n",
       "count  4571.000000  4571.000000  4571.000000  4571.000000  \n",
       "mean      1.711713     0.439934     0.059030     0.556686  \n",
       "std       2.719254     0.232061     0.135018     2.011103  \n",
       "min       0.000000     0.000000     0.000000     0.000000  \n",
       "25%       0.000000     0.333333     0.010610     0.000000  \n",
       "50%       0.000000     0.451389     0.015556     0.000000  \n",
       "75%       4.539010     0.533333     0.055000     0.220000  \n",
       "max       9.928980     2.000000     3.810000    57.450000  "
      ]
     },
     "execution_count": 23,
     "metadata": {},
     "output_type": "execute_result"
    }
   ],
   "source": [
    "data_train.describe()"
   ]
  },
  {
   "cell_type": "markdown",
   "id": "0a61aa8c",
   "metadata": {},
   "source": [
    "# Treating Outliers"
   ]
  },
  {
   "cell_type": "code",
   "execution_count": 24,
   "id": "4d8462a3",
   "metadata": {},
   "outputs": [
    {
     "data": {
      "text/plain": [
       "2262    531.25\n",
       "2273    297.96\n",
       "2264    265.44\n",
       "2272    241.70\n",
       "2248    228.20\n",
       "         ...  \n",
       "2233      0.00\n",
       "4132      0.00\n",
       "1042      0.00\n",
       "4135      0.00\n",
       "3354      0.00\n",
       "Name: cost, Length: 4571, dtype: float64"
      ]
     },
     "execution_count": 24,
     "metadata": {},
     "output_type": "execute_result"
    }
   ],
   "source": [
    "data_train.cost.sort_values(ascending = False)"
   ]
  },
  {
   "cell_type": "markdown",
   "id": "d8bc9307",
   "metadata": {},
   "source": [
    "By using this, we found that there are outliers in Cost, impressions, clicks, CPC and CPA. So, we will treat it in the next line."
   ]
  },
  {
   "cell_type": "code",
   "execution_count": 25,
   "id": "e5ed5fb2",
   "metadata": {},
   "outputs": [],
   "source": [
    "data_train.cost[(data_train.cost > 300)] = 300\n",
    "data_train.impressions[(data_train.impressions > 2200)] = 2200\n",
    "data_train.clicks[(data_train.clicks > 1200)] = 1200\n",
    "data_train.CPC[(data_train.CPC > 2.5)] = 2.5\n",
    "data_train.CPA[(data_train.CPA > 27)] = 27"
   ]
  },
  {
   "cell_type": "code",
   "execution_count": 26,
   "id": "91087562",
   "metadata": {},
   "outputs": [
    {
     "data": {
      "text/html": [
       "<div>\n",
       "<style scoped>\n",
       "    .dataframe tbody tr th:only-of-type {\n",
       "        vertical-align: middle;\n",
       "    }\n",
       "\n",
       "    .dataframe tbody tr th {\n",
       "        vertical-align: top;\n",
       "    }\n",
       "\n",
       "    .dataframe thead th {\n",
       "        text-align: right;\n",
       "    }\n",
       "</style>\n",
       "<table border=\"1\" class=\"dataframe\">\n",
       "  <thead>\n",
       "    <tr style=\"text-align: right;\">\n",
       "      <th></th>\n",
       "      <th>impressions</th>\n",
       "      <th>clicks</th>\n",
       "      <th>cost</th>\n",
       "      <th>conversions</th>\n",
       "      <th>revenue</th>\n",
       "      <th>log_revenue</th>\n",
       "      <th>CTR</th>\n",
       "      <th>CPC</th>\n",
       "      <th>CPA</th>\n",
       "    </tr>\n",
       "  </thead>\n",
       "  <tbody>\n",
       "    <tr>\n",
       "      <th>count</th>\n",
       "      <td>4571.000000</td>\n",
       "      <td>4571.000000</td>\n",
       "      <td>4571.000000</td>\n",
       "      <td>4571.000000</td>\n",
       "      <td>4571.000000</td>\n",
       "      <td>4571.000000</td>\n",
       "      <td>4571.000000</td>\n",
       "      <td>4571.000000</td>\n",
       "      <td>4571.000000</td>\n",
       "    </tr>\n",
       "    <tr>\n",
       "      <th>mean</th>\n",
       "      <td>92.408445</td>\n",
       "      <td>43.215926</td>\n",
       "      <td>2.750243</td>\n",
       "      <td>1.339094</td>\n",
       "      <td>231.865340</td>\n",
       "      <td>1.711713</td>\n",
       "      <td>0.439934</td>\n",
       "      <td>0.058744</td>\n",
       "      <td>0.550024</td>\n",
       "    </tr>\n",
       "    <tr>\n",
       "      <th>std</th>\n",
       "      <td>195.315435</td>\n",
       "      <td>98.349439</td>\n",
       "      <td>12.824752</td>\n",
       "      <td>5.223922</td>\n",
       "      <td>1091.742763</td>\n",
       "      <td>2.719254</td>\n",
       "      <td>0.232061</td>\n",
       "      <td>0.128277</td>\n",
       "      <td>1.867945</td>\n",
       "    </tr>\n",
       "    <tr>\n",
       "      <th>min</th>\n",
       "      <td>1.000000</td>\n",
       "      <td>0.000000</td>\n",
       "      <td>0.000000</td>\n",
       "      <td>0.000000</td>\n",
       "      <td>0.000000</td>\n",
       "      <td>0.000000</td>\n",
       "      <td>0.000000</td>\n",
       "      <td>0.000000</td>\n",
       "      <td>0.000000</td>\n",
       "    </tr>\n",
       "    <tr>\n",
       "      <th>25%</th>\n",
       "      <td>6.000000</td>\n",
       "      <td>2.000000</td>\n",
       "      <td>0.040000</td>\n",
       "      <td>0.000000</td>\n",
       "      <td>0.000000</td>\n",
       "      <td>0.000000</td>\n",
       "      <td>0.333333</td>\n",
       "      <td>0.010610</td>\n",
       "      <td>0.000000</td>\n",
       "    </tr>\n",
       "    <tr>\n",
       "      <th>50%</th>\n",
       "      <td>16.000000</td>\n",
       "      <td>7.000000</td>\n",
       "      <td>0.210000</td>\n",
       "      <td>0.000000</td>\n",
       "      <td>0.000000</td>\n",
       "      <td>0.000000</td>\n",
       "      <td>0.451389</td>\n",
       "      <td>0.015556</td>\n",
       "      <td>0.000000</td>\n",
       "    </tr>\n",
       "    <tr>\n",
       "      <th>75%</th>\n",
       "      <td>84.000000</td>\n",
       "      <td>38.000000</td>\n",
       "      <td>1.350000</td>\n",
       "      <td>1.000000</td>\n",
       "      <td>92.600000</td>\n",
       "      <td>4.539010</td>\n",
       "      <td>0.533333</td>\n",
       "      <td>0.055000</td>\n",
       "      <td>0.220000</td>\n",
       "    </tr>\n",
       "    <tr>\n",
       "      <th>max</th>\n",
       "      <td>2200.000000</td>\n",
       "      <td>1200.000000</td>\n",
       "      <td>300.000000</td>\n",
       "      <td>94.000000</td>\n",
       "      <td>20515.410000</td>\n",
       "      <td>9.928980</td>\n",
       "      <td>2.000000</td>\n",
       "      <td>2.500000</td>\n",
       "      <td>27.000000</td>\n",
       "    </tr>\n",
       "  </tbody>\n",
       "</table>\n",
       "</div>"
      ],
      "text/plain": [
       "       impressions       clicks         cost  conversions       revenue  \\\n",
       "count  4571.000000  4571.000000  4571.000000  4571.000000   4571.000000   \n",
       "mean     92.408445    43.215926     2.750243     1.339094    231.865340   \n",
       "std     195.315435    98.349439    12.824752     5.223922   1091.742763   \n",
       "min       1.000000     0.000000     0.000000     0.000000      0.000000   \n",
       "25%       6.000000     2.000000     0.040000     0.000000      0.000000   \n",
       "50%      16.000000     7.000000     0.210000     0.000000      0.000000   \n",
       "75%      84.000000    38.000000     1.350000     1.000000     92.600000   \n",
       "max    2200.000000  1200.000000   300.000000    94.000000  20515.410000   \n",
       "\n",
       "       log_revenue          CTR          CPC          CPA  \n",
       "count  4571.000000  4571.000000  4571.000000  4571.000000  \n",
       "mean      1.711713     0.439934     0.058744     0.550024  \n",
       "std       2.719254     0.232061     0.128277     1.867945  \n",
       "min       0.000000     0.000000     0.000000     0.000000  \n",
       "25%       0.000000     0.333333     0.010610     0.000000  \n",
       "50%       0.000000     0.451389     0.015556     0.000000  \n",
       "75%       4.539010     0.533333     0.055000     0.220000  \n",
       "max       9.928980     2.000000     2.500000    27.000000  "
      ]
     },
     "execution_count": 26,
     "metadata": {},
     "output_type": "execute_result"
    }
   ],
   "source": [
    "data_train.describe()"
   ]
  },
  {
   "cell_type": "markdown",
   "id": "e772135e",
   "metadata": {},
   "source": [
    "# For Training data"
   ]
  },
  {
   "cell_type": "code",
   "execution_count": 27,
   "id": "adcdc4d9",
   "metadata": {},
   "outputs": [],
   "source": [
    "from sklearn.model_selection import train_test_split\n",
    "\n",
    "# Define features (X) and transformed target (y)\n",
    "X = data_train.drop(columns=[\"revenue\", \"log_revenue\",'date','campaign',\"ad\"])  # Drop original revenue\n",
    "X=pd.get_dummies(X)\n",
    "y = data_train[\"log_revenue\"]\n",
    "\n",
    "# Train-Test Split\n",
    "X_train, X_test, y_train, y_test = train_test_split(X, y, test_size=0.2, random_state=42)"
   ]
  },
  {
   "cell_type": "code",
   "execution_count": 28,
   "id": "b0764b7d",
   "metadata": {},
   "outputs": [
    {
     "data": {
      "text/html": [
       "<div>\n",
       "<style scoped>\n",
       "    .dataframe tbody tr th:only-of-type {\n",
       "        vertical-align: middle;\n",
       "    }\n",
       "\n",
       "    .dataframe tbody tr th {\n",
       "        vertical-align: top;\n",
       "    }\n",
       "\n",
       "    .dataframe thead th {\n",
       "        text-align: right;\n",
       "    }\n",
       "</style>\n",
       "<table border=\"1\" class=\"dataframe\">\n",
       "  <thead>\n",
       "    <tr style=\"text-align: right;\">\n",
       "      <th></th>\n",
       "      <th>impressions</th>\n",
       "      <th>clicks</th>\n",
       "      <th>cost</th>\n",
       "      <th>conversions</th>\n",
       "      <th>CTR</th>\n",
       "      <th>CPC</th>\n",
       "      <th>CPA</th>\n",
       "      <th>adgroup_adgroup 1</th>\n",
       "      <th>adgroup_adgroup 2</th>\n",
       "      <th>adgroup_adgroup 3</th>\n",
       "      <th>adgroup_adgroup 4</th>\n",
       "    </tr>\n",
       "  </thead>\n",
       "  <tbody>\n",
       "    <tr>\n",
       "      <th>1572</th>\n",
       "      <td>8</td>\n",
       "      <td>1</td>\n",
       "      <td>1.20</td>\n",
       "      <td>0</td>\n",
       "      <td>0.125000</td>\n",
       "      <td>1.200000</td>\n",
       "      <td>0.00</td>\n",
       "      <td>0</td>\n",
       "      <td>1</td>\n",
       "      <td>0</td>\n",
       "      <td>0</td>\n",
       "    </tr>\n",
       "    <tr>\n",
       "      <th>3164</th>\n",
       "      <td>3</td>\n",
       "      <td>0</td>\n",
       "      <td>0.00</td>\n",
       "      <td>0</td>\n",
       "      <td>0.000000</td>\n",
       "      <td>0.000000</td>\n",
       "      <td>0.00</td>\n",
       "      <td>0</td>\n",
       "      <td>1</td>\n",
       "      <td>0</td>\n",
       "      <td>0</td>\n",
       "    </tr>\n",
       "    <tr>\n",
       "      <th>3160</th>\n",
       "      <td>35</td>\n",
       "      <td>15</td>\n",
       "      <td>0.18</td>\n",
       "      <td>1</td>\n",
       "      <td>0.428571</td>\n",
       "      <td>0.012000</td>\n",
       "      <td>0.18</td>\n",
       "      <td>0</td>\n",
       "      <td>0</td>\n",
       "      <td>1</td>\n",
       "      <td>0</td>\n",
       "    </tr>\n",
       "    <tr>\n",
       "      <th>1268</th>\n",
       "      <td>70</td>\n",
       "      <td>23</td>\n",
       "      <td>1.44</td>\n",
       "      <td>0</td>\n",
       "      <td>0.328571</td>\n",
       "      <td>0.062609</td>\n",
       "      <td>0.00</td>\n",
       "      <td>1</td>\n",
       "      <td>0</td>\n",
       "      <td>0</td>\n",
       "      <td>0</td>\n",
       "    </tr>\n",
       "    <tr>\n",
       "      <th>229</th>\n",
       "      <td>69</td>\n",
       "      <td>23</td>\n",
       "      <td>0.26</td>\n",
       "      <td>0</td>\n",
       "      <td>0.333333</td>\n",
       "      <td>0.011304</td>\n",
       "      <td>0.00</td>\n",
       "      <td>1</td>\n",
       "      <td>0</td>\n",
       "      <td>0</td>\n",
       "      <td>0</td>\n",
       "    </tr>\n",
       "  </tbody>\n",
       "</table>\n",
       "</div>"
      ],
      "text/plain": [
       "      impressions  clicks  cost  conversions       CTR       CPC   CPA  \\\n",
       "1572            8       1  1.20            0  0.125000  1.200000  0.00   \n",
       "3164            3       0  0.00            0  0.000000  0.000000  0.00   \n",
       "3160           35      15  0.18            1  0.428571  0.012000  0.18   \n",
       "1268           70      23  1.44            0  0.328571  0.062609  0.00   \n",
       "229            69      23  0.26            0  0.333333  0.011304  0.00   \n",
       "\n",
       "      adgroup_adgroup 1  adgroup_adgroup 2  adgroup_adgroup 3  \\\n",
       "1572                  0                  1                  0   \n",
       "3164                  0                  1                  0   \n",
       "3160                  0                  0                  1   \n",
       "1268                  1                  0                  0   \n",
       "229                   1                  0                  0   \n",
       "\n",
       "      adgroup_adgroup 4  \n",
       "1572                  0  \n",
       "3164                  0  \n",
       "3160                  0  \n",
       "1268                  0  \n",
       "229                   0  "
      ]
     },
     "execution_count": 28,
     "metadata": {},
     "output_type": "execute_result"
    }
   ],
   "source": [
    "X_train.head()"
   ]
  },
  {
   "cell_type": "code",
   "execution_count": 29,
   "id": "b823976f",
   "metadata": {},
   "outputs": [],
   "source": [
    "regtree = tree.DecisionTreeRegressor(random_state=42)"
   ]
  },
  {
   "cell_type": "markdown",
   "id": "1b9df340",
   "metadata": {},
   "source": [
    "# GridSearchCV\n",
    "using gridearchCV to identify best parameters"
   ]
  },
  {
   "cell_type": "code",
   "execution_count": 36,
   "id": "9ab639b5",
   "metadata": {},
   "outputs": [],
   "source": [
    "params_grid = {\"min_samples_split\": [0, 1, 2, 3, 4, 5, 6, 7, 8, 9, 10],\n",
    "\"max_depth\": [0, 1, 2, 3, 4, 5, 6, 7, 8, 9, 10],\n",
    "\"max_features\": [\"auto\", \"sqrt\", \"log2\"],\n",
    "\"criterion\": [\"mse\", \"friedman_mse\", \"mae\"]}"
   ]
  },
  {
   "cell_type": "code",
   "execution_count": 37,
   "id": "93ab94bf",
   "metadata": {},
   "outputs": [],
   "source": [
    "grid_search = GridSearchCV(regtree, params_grid, n_jobs = -1, cv = 5)"
   ]
  },
  {
   "cell_type": "code",
   "execution_count": 38,
   "id": "af10e8d9",
   "metadata": {},
   "outputs": [
    {
     "data": {
      "text/plain": [
       "GridSearchCV(cv=5, estimator=DecisionTreeRegressor(random_state=42), n_jobs=-1,\n",
       "             param_grid={'criterion': ['mse', 'friedman_mse', 'mae'],\n",
       "                         'max_depth': [0, 1, 2, 3, 4, 5, 6, 7, 8, 9, 10],\n",
       "                         'max_features': ['auto', 'sqrt', 'log2'],\n",
       "                         'min_samples_split': [0, 1, 2, 3, 4, 5, 6, 7, 8, 9,\n",
       "                                               10]})"
      ]
     },
     "execution_count": 38,
     "metadata": {},
     "output_type": "execute_result"
    }
   ],
   "source": [
    "grid_search.fit(X_train, y_train)"
   ]
  },
  {
   "cell_type": "code",
   "execution_count": 39,
   "id": "7aac34a2",
   "metadata": {},
   "outputs": [
    {
     "data": {
      "text/plain": [
       "{'criterion': 'mse',\n",
       " 'max_depth': 4,\n",
       " 'max_features': 'auto',\n",
       " 'min_samples_split': 2}"
      ]
     },
     "execution_count": 39,
     "metadata": {},
     "output_type": "execute_result"
    }
   ],
   "source": [
    "grid_search.best_params_"
   ]
  },
  {
   "cell_type": "markdown",
   "id": "03b55ad8",
   "metadata": {},
   "source": [
    "# Regression Tree"
   ]
  },
  {
   "cell_type": "code",
   "execution_count": 40,
   "id": "bc5dfb82",
   "metadata": {},
   "outputs": [],
   "source": [
    "regtree = tree.DecisionTreeRegressor(criterion = \"mse\", max_depth = 4, max_features = \"auto\", min_samples_split =2, splitter = \"best\", random_state = 42)"
   ]
  },
  {
   "cell_type": "code",
   "execution_count": 41,
   "id": "92af1589",
   "metadata": {},
   "outputs": [
    {
     "data": {
      "text/plain": [
       "DecisionTreeRegressor(max_depth=4, max_features='auto', random_state=42)"
      ]
     },
     "execution_count": 41,
     "metadata": {},
     "output_type": "execute_result"
    }
   ],
   "source": [
    "regtree.fit(X_train, y_train)"
   ]
  },
  {
   "cell_type": "code",
   "execution_count": 42,
   "id": "6d2c03b4",
   "metadata": {},
   "outputs": [],
   "source": [
    "y_train_pred = regtree.predict(X_train)\n",
    "y_test_pred = regtree.predict(X_test)"
   ]
  },
  {
   "cell_type": "code",
   "execution_count": 43,
   "id": "a750857e",
   "metadata": {},
   "outputs": [
    {
     "name": "stdout",
     "output_type": "stream",
     "text": [
      "RMSE score for Training data:  0.35042505718546113\n"
     ]
    }
   ],
   "source": [
    "print(\"RMSE score for Training data: \", np.sqrt(mean_squared_error(y_train, y_train_pred)))"
   ]
  },
  {
   "cell_type": "code",
   "execution_count": 44,
   "id": "64dfbf92",
   "metadata": {},
   "outputs": [
    {
     "name": "stdout",
     "output_type": "stream",
     "text": [
      "R2 score for Training data:  0.9834447981961264\n"
     ]
    }
   ],
   "source": [
    "print(\"R2 score for Training data: \", r2_score(y_train, y_train_pred))"
   ]
  },
  {
   "cell_type": "code",
   "execution_count": 45,
   "id": "e803f384",
   "metadata": {},
   "outputs": [
    {
     "name": "stdout",
     "output_type": "stream",
     "text": [
      "RMSE score for Testing data:  0.3758119095931265\n"
     ]
    }
   ],
   "source": [
    "print(\"RMSE score for Testing data: \", np.sqrt(mean_squared_error(y_test, y_test_pred)))"
   ]
  },
  {
   "cell_type": "code",
   "execution_count": 46,
   "id": "c14ad87e",
   "metadata": {},
   "outputs": [
    {
     "name": "stdout",
     "output_type": "stream",
     "text": [
      "R2 score for Testing data:  0.9806364485089311\n"
     ]
    }
   ],
   "source": [
    "print(\"R2 score for Testing data: \", r2_score(y_test, y_test_pred))"
   ]
  },
  {
   "cell_type": "markdown",
   "id": "038aea70",
   "metadata": {},
   "source": [
    "# For testing data"
   ]
  },
  {
   "cell_type": "code",
   "execution_count": 47,
   "id": "b51d9c0d",
   "metadata": {},
   "outputs": [
    {
     "data": {
      "text/html": [
       "<div>\n",
       "<style scoped>\n",
       "    .dataframe tbody tr th:only-of-type {\n",
       "        vertical-align: middle;\n",
       "    }\n",
       "\n",
       "    .dataframe tbody tr th {\n",
       "        vertical-align: top;\n",
       "    }\n",
       "\n",
       "    .dataframe thead th {\n",
       "        text-align: right;\n",
       "    }\n",
       "</style>\n",
       "<table border=\"1\" class=\"dataframe\">\n",
       "  <thead>\n",
       "    <tr style=\"text-align: right;\">\n",
       "      <th></th>\n",
       "      <th>date</th>\n",
       "      <th>campaign</th>\n",
       "      <th>adgroup</th>\n",
       "      <th>ad</th>\n",
       "      <th>cost</th>\n",
       "      <th>impressions</th>\n",
       "      <th>clicks</th>\n",
       "      <th>conversions</th>\n",
       "      <th>CTR</th>\n",
       "      <th>CPC</th>\n",
       "      <th>CPA</th>\n",
       "    </tr>\n",
       "  </thead>\n",
       "  <tbody>\n",
       "    <tr>\n",
       "      <th>0</th>\n",
       "      <td>01-03-2021</td>\n",
       "      <td>campaign 1</td>\n",
       "      <td>adgroup 1</td>\n",
       "      <td>ad 1</td>\n",
       "      <td>0.58</td>\n",
       "      <td>121</td>\n",
       "      <td>49</td>\n",
       "      <td>1</td>\n",
       "      <td>0.404959</td>\n",
       "      <td>0.011837</td>\n",
       "      <td>0.58</td>\n",
       "    </tr>\n",
       "    <tr>\n",
       "      <th>1</th>\n",
       "      <td>01-03-2021</td>\n",
       "      <td>campaign 1</td>\n",
       "      <td>adgroup 3</td>\n",
       "      <td>ad 1</td>\n",
       "      <td>0.17</td>\n",
       "      <td>22</td>\n",
       "      <td>12</td>\n",
       "      <td>0</td>\n",
       "      <td>0.545455</td>\n",
       "      <td>0.014167</td>\n",
       "      <td>0.00</td>\n",
       "    </tr>\n",
       "    <tr>\n",
       "      <th>2</th>\n",
       "      <td>01-03-2021</td>\n",
       "      <td>campaign 1</td>\n",
       "      <td>adgroup 4</td>\n",
       "      <td>ad 1</td>\n",
       "      <td>0.05</td>\n",
       "      <td>5</td>\n",
       "      <td>3</td>\n",
       "      <td>0</td>\n",
       "      <td>0.600000</td>\n",
       "      <td>0.016667</td>\n",
       "      <td>0.00</td>\n",
       "    </tr>\n",
       "    <tr>\n",
       "      <th>3</th>\n",
       "      <td>01-03-2021</td>\n",
       "      <td>campaign 1</td>\n",
       "      <td>adgroup 2</td>\n",
       "      <td>ad 1</td>\n",
       "      <td>0.01</td>\n",
       "      <td>2</td>\n",
       "      <td>1</td>\n",
       "      <td>0</td>\n",
       "      <td>0.500000</td>\n",
       "      <td>0.010000</td>\n",
       "      <td>0.00</td>\n",
       "    </tr>\n",
       "    <tr>\n",
       "      <th>4</th>\n",
       "      <td>01-03-2021</td>\n",
       "      <td>campaign 1</td>\n",
       "      <td>adgroup 2</td>\n",
       "      <td>ad 2</td>\n",
       "      <td>0.01</td>\n",
       "      <td>3</td>\n",
       "      <td>1</td>\n",
       "      <td>0</td>\n",
       "      <td>0.333333</td>\n",
       "      <td>0.010000</td>\n",
       "      <td>0.00</td>\n",
       "    </tr>\n",
       "  </tbody>\n",
       "</table>\n",
       "</div>"
      ],
      "text/plain": [
       "         date    campaign    adgroup    ad  cost  impressions  clicks  \\\n",
       "0  01-03-2021  campaign 1  adgroup 1  ad 1  0.58          121      49   \n",
       "1  01-03-2021  campaign 1  adgroup 3  ad 1  0.17           22      12   \n",
       "2  01-03-2021  campaign 1  adgroup 4  ad 1  0.05            5       3   \n",
       "3  01-03-2021  campaign 1  adgroup 2  ad 1  0.01            2       1   \n",
       "4  01-03-2021  campaign 1  adgroup 2  ad 2  0.01            3       1   \n",
       "\n",
       "   conversions       CTR       CPC   CPA  \n",
       "0            1  0.404959  0.011837  0.58  \n",
       "1            0  0.545455  0.014167  0.00  \n",
       "2            0  0.600000  0.016667  0.00  \n",
       "3            0  0.500000  0.010000  0.00  \n",
       "4            0  0.333333  0.010000  0.00  "
      ]
     },
     "execution_count": 47,
     "metadata": {},
     "output_type": "execute_result"
    }
   ],
   "source": [
    "data_test.head()"
   ]
  },
  {
   "cell_type": "code",
   "execution_count": 48,
   "id": "df2cd6b2",
   "metadata": {},
   "outputs": [],
   "source": [
    "xt= data_test.drop(columns=['date','campaign',\"ad\"])\n",
    "xt=pd.get_dummies(xt)"
   ]
  },
  {
   "cell_type": "code",
   "execution_count": 49,
   "id": "1e94cf8a",
   "metadata": {},
   "outputs": [
    {
     "data": {
      "text/html": [
       "<div>\n",
       "<style scoped>\n",
       "    .dataframe tbody tr th:only-of-type {\n",
       "        vertical-align: middle;\n",
       "    }\n",
       "\n",
       "    .dataframe tbody tr th {\n",
       "        vertical-align: top;\n",
       "    }\n",
       "\n",
       "    .dataframe thead th {\n",
       "        text-align: right;\n",
       "    }\n",
       "</style>\n",
       "<table border=\"1\" class=\"dataframe\">\n",
       "  <thead>\n",
       "    <tr style=\"text-align: right;\">\n",
       "      <th></th>\n",
       "      <th>cost</th>\n",
       "      <th>impressions</th>\n",
       "      <th>clicks</th>\n",
       "      <th>conversions</th>\n",
       "      <th>CTR</th>\n",
       "      <th>CPC</th>\n",
       "      <th>CPA</th>\n",
       "      <th>adgroup_adgroup 1</th>\n",
       "      <th>adgroup_adgroup 2</th>\n",
       "      <th>adgroup_adgroup 3</th>\n",
       "      <th>adgroup_adgroup 4</th>\n",
       "    </tr>\n",
       "  </thead>\n",
       "  <tbody>\n",
       "    <tr>\n",
       "      <th>0</th>\n",
       "      <td>0.58</td>\n",
       "      <td>121</td>\n",
       "      <td>49</td>\n",
       "      <td>1</td>\n",
       "      <td>0.404959</td>\n",
       "      <td>0.011837</td>\n",
       "      <td>0.58</td>\n",
       "      <td>1</td>\n",
       "      <td>0</td>\n",
       "      <td>0</td>\n",
       "      <td>0</td>\n",
       "    </tr>\n",
       "  </tbody>\n",
       "</table>\n",
       "</div>"
      ],
      "text/plain": [
       "   cost  impressions  clicks  conversions       CTR       CPC   CPA  \\\n",
       "0  0.58          121      49            1  0.404959  0.011837  0.58   \n",
       "\n",
       "   adgroup_adgroup 1  adgroup_adgroup 2  adgroup_adgroup 3  adgroup_adgroup 4  \n",
       "0                  1                  0                  0                  0  "
      ]
     },
     "execution_count": 49,
     "metadata": {},
     "output_type": "execute_result"
    }
   ],
   "source": [
    "xt.head(1)"
   ]
  },
  {
   "cell_type": "code",
   "execution_count": 50,
   "id": "32f69905",
   "metadata": {},
   "outputs": [],
   "source": [
    "yt=regtree.predict(xt)"
   ]
  },
  {
   "cell_type": "code",
   "execution_count": 51,
   "id": "d1e49dbb",
   "metadata": {},
   "outputs": [
    {
     "data": {
      "text/plain": [
       "array([4.95429496, 0.        , 0.        , 0.        , 0.        ,\n",
       "       0.        , 4.71410366, 0.        , 4.71410366, 0.        ,\n",
       "       5.87183679, 0.        , 0.        , 5.5799038 , 0.        ,\n",
       "       4.95429496, 0.        , 4.95429496, 0.        , 4.71410366,\n",
       "       0.        , 0.        , 0.        , 5.87183679, 0.        ,\n",
       "       0.        , 6.50141961, 4.71410366, 0.        , 0.        ,\n",
       "       5.87183679, 0.        , 6.50141961, 5.5799038 , 4.95429496,\n",
       "       0.        , 4.71410366, 0.        , 0.        , 0.        ,\n",
       "       0.        , 0.        , 0.        , 0.        , 0.        ,\n",
       "       0.        , 0.        , 0.        , 0.        , 0.        ,\n",
       "       0.        , 0.        , 0.        , 5.5799038 , 4.71410366,\n",
       "       4.95429496, 0.        , 0.        , 0.        , 6.50141961,\n",
       "       0.        , 5.5799038 , 0.        , 5.5799038 , 0.        ,\n",
       "       0.        , 5.87183679, 4.95429496, 0.        , 0.        ,\n",
       "       5.5799038 , 0.        , 0.        , 0.        , 4.95429496,\n",
       "       4.71410366, 6.50141961, 0.        , 0.        , 0.        ,\n",
       "       5.87183679, 4.95429496, 0.        , 4.71410366, 0.        ,\n",
       "       0.        , 6.50141961, 7.16497971, 0.        , 5.5799038 ,\n",
       "       5.5799038 , 5.5799038 , 0.        , 6.50141961, 4.71410366,\n",
       "       0.        , 0.        , 0.        , 0.        , 0.        ,\n",
       "       4.95429496, 0.        , 0.        , 4.71410366, 0.        ,\n",
       "       7.16497971, 0.        , 5.5799038 , 0.        , 4.71410366,\n",
       "       0.        , 6.50141961, 0.        , 5.5799038 , 0.        ,\n",
       "       7.16497971, 0.        , 7.16497971, 5.87183679, 4.71410366,\n",
       "       0.        , 0.        , 5.87183679, 0.        , 0.        ,\n",
       "       0.        , 5.87183679, 0.        , 4.95429496, 4.71410366,\n",
       "       0.        , 0.        , 0.        , 0.        , 6.50141961,\n",
       "       0.        , 0.        , 0.        , 5.87183679, 0.        ,\n",
       "       4.95429496, 0.        , 0.        , 0.        , 4.95429496,\n",
       "       0.        , 0.        , 5.5799038 , 5.87183679, 0.        ,\n",
       "       0.        , 0.        , 6.50141961, 0.        , 5.5799038 ,\n",
       "       0.        , 6.50141961, 0.        , 0.        , 0.        ,\n",
       "       4.95429496, 0.        , 0.        , 0.        , 5.5799038 ,\n",
       "       0.        , 5.5799038 , 0.        , 0.        , 0.        ,\n",
       "       0.        , 0.        , 0.        , 4.95429496, 0.        ,\n",
       "       0.        , 0.        , 0.        , 5.5799038 , 4.71410366,\n",
       "       0.        , 0.        , 0.        , 4.71410366, 0.        ,\n",
       "       0.        , 4.95429496, 0.        , 4.95429496, 0.        ,\n",
       "       0.        , 4.95429496, 0.        , 0.        , 0.        ,\n",
       "       0.        , 0.        , 0.        , 0.        , 4.95429496,\n",
       "       4.95429496, 0.        , 5.5799038 , 0.        , 0.        ,\n",
       "       0.        , 4.71410366, 0.        , 0.        , 5.87183679,\n",
       "       0.        , 0.        , 0.        , 4.71410366, 5.5799038 ,\n",
       "       0.        , 0.        , 0.        , 0.        , 5.5799038 ,\n",
       "       0.        , 0.        , 0.        , 0.        , 0.        ,\n",
       "       6.50141961, 0.        , 0.        , 4.71410366, 0.        ,\n",
       "       5.5799038 , 0.        , 0.        , 0.        , 0.        ,\n",
       "       0.        , 0.        , 4.71410366, 0.        , 0.        ,\n",
       "       0.        , 0.        , 0.        , 0.        , 0.        ,\n",
       "       4.71410366, 0.        , 0.        , 0.        , 0.        ,\n",
       "       5.87183679, 5.5799038 , 0.        , 5.87183679, 0.        ,\n",
       "       4.71410366, 0.        , 0.        , 4.95429496, 4.71410366,\n",
       "       0.        , 5.5799038 , 0.        , 0.        , 0.        ,\n",
       "       0.        , 0.        , 0.        , 0.        , 0.        ,\n",
       "       5.5799038 , 0.        , 0.        , 6.50141961, 0.        ,\n",
       "       0.        , 0.        , 5.5799038 , 4.71410366, 0.        ,\n",
       "       0.        , 0.        , 0.        , 0.        , 5.5799038 ,\n",
       "       0.        , 4.71410366, 0.        , 0.        , 0.        ,\n",
       "       0.        , 4.71410366, 0.        , 0.        , 4.95429496,\n",
       "       0.        , 0.        , 4.95429496, 0.        , 0.        ,\n",
       "       0.        , 0.        , 6.50141961, 0.        , 0.        ,\n",
       "       0.        , 6.50141961, 0.        , 0.        , 5.5799038 ,\n",
       "       4.95429496, 4.95429496, 0.        , 0.        , 0.        ,\n",
       "       0.        , 0.        , 4.95429496])"
      ]
     },
     "execution_count": 51,
     "metadata": {},
     "output_type": "execute_result"
    }
   ],
   "source": [
    "yt"
   ]
  },
  {
   "cell_type": "code",
   "execution_count": 52,
   "id": "12e84634",
   "metadata": {},
   "outputs": [],
   "source": [
    "#Transforming back the target column\n",
    "y_pred_original = np.expm1(yt)"
   ]
  },
  {
   "cell_type": "code",
   "execution_count": 53,
   "id": "0d7c400b",
   "metadata": {},
   "outputs": [
    {
     "data": {
      "text/plain": [
       "array([ 140.78260869,    0.        ,    0.        ,    0.        ,\n",
       "          0.        ,    0.        ,  110.50881613,    0.        ,\n",
       "        110.50881613,    0.        ,  353.90026054,    0.        ,\n",
       "          0.        ,  264.04610776,    0.        ,  140.78260869,\n",
       "          0.        ,  140.78260869,    0.        ,  110.50881613,\n",
       "          0.        ,    0.        ,    0.        ,  353.90026054,\n",
       "          0.        ,    0.        ,  665.08654513,  110.50881613,\n",
       "          0.        ,    0.        ,  353.90026054,    0.        ,\n",
       "        665.08654513,  264.04610776,  140.78260869,    0.        ,\n",
       "        110.50881613,    0.        ,    0.        ,    0.        ,\n",
       "          0.        ,    0.        ,    0.        ,    0.        ,\n",
       "          0.        ,    0.        ,    0.        ,    0.        ,\n",
       "          0.        ,    0.        ,    0.        ,    0.        ,\n",
       "          0.        ,  264.04610776,  110.50881613,  140.78260869,\n",
       "          0.        ,    0.        ,    0.        ,  665.08654513,\n",
       "          0.        ,  264.04610776,    0.        ,  264.04610776,\n",
       "          0.        ,    0.        ,  353.90026054,  140.78260869,\n",
       "          0.        ,    0.        ,  264.04610776,    0.        ,\n",
       "          0.        ,    0.        ,  140.78260869,  110.50881613,\n",
       "        665.08654513,    0.        ,    0.        ,    0.        ,\n",
       "        353.90026054,  140.78260869,    0.        ,  110.50881613,\n",
       "          0.        ,    0.        ,  665.08654513, 1292.3353556 ,\n",
       "          0.        ,  264.04610776,  264.04610776,  264.04610776,\n",
       "          0.        ,  665.08654513,  110.50881613,    0.        ,\n",
       "          0.        ,    0.        ,    0.        ,    0.        ,\n",
       "        140.78260869,    0.        ,    0.        ,  110.50881613,\n",
       "          0.        , 1292.3353556 ,    0.        ,  264.04610776,\n",
       "          0.        ,  110.50881613,    0.        ,  665.08654513,\n",
       "          0.        ,  264.04610776,    0.        , 1292.3353556 ,\n",
       "          0.        , 1292.3353556 ,  353.90026054,  110.50881613,\n",
       "          0.        ,    0.        ,  353.90026054,    0.        ,\n",
       "          0.        ,    0.        ,  353.90026054,    0.        ,\n",
       "        140.78260869,  110.50881613,    0.        ,    0.        ,\n",
       "          0.        ,    0.        ,  665.08654513,    0.        ,\n",
       "          0.        ,    0.        ,  353.90026054,    0.        ,\n",
       "        140.78260869,    0.        ,    0.        ,    0.        ,\n",
       "        140.78260869,    0.        ,    0.        ,  264.04610776,\n",
       "        353.90026054,    0.        ,    0.        ,    0.        ,\n",
       "        665.08654513,    0.        ,  264.04610776,    0.        ,\n",
       "        665.08654513,    0.        ,    0.        ,    0.        ,\n",
       "        140.78260869,    0.        ,    0.        ,    0.        ,\n",
       "        264.04610776,    0.        ,  264.04610776,    0.        ,\n",
       "          0.        ,    0.        ,    0.        ,    0.        ,\n",
       "          0.        ,  140.78260869,    0.        ,    0.        ,\n",
       "          0.        ,    0.        ,  264.04610776,  110.50881613,\n",
       "          0.        ,    0.        ,    0.        ,  110.50881613,\n",
       "          0.        ,    0.        ,  140.78260869,    0.        ,\n",
       "        140.78260869,    0.        ,    0.        ,  140.78260869,\n",
       "          0.        ,    0.        ,    0.        ,    0.        ,\n",
       "          0.        ,    0.        ,    0.        ,  140.78260869,\n",
       "        140.78260869,    0.        ,  264.04610776,    0.        ,\n",
       "          0.        ,    0.        ,  110.50881613,    0.        ,\n",
       "          0.        ,  353.90026054,    0.        ,    0.        ,\n",
       "          0.        ,  110.50881613,  264.04610776,    0.        ,\n",
       "          0.        ,    0.        ,    0.        ,  264.04610776,\n",
       "          0.        ,    0.        ,    0.        ,    0.        ,\n",
       "          0.        ,  665.08654513,    0.        ,    0.        ,\n",
       "        110.50881613,    0.        ,  264.04610776,    0.        ,\n",
       "          0.        ,    0.        ,    0.        ,    0.        ,\n",
       "          0.        ,  110.50881613,    0.        ,    0.        ,\n",
       "          0.        ,    0.        ,    0.        ,    0.        ,\n",
       "          0.        ,  110.50881613,    0.        ,    0.        ,\n",
       "          0.        ,    0.        ,  353.90026054,  264.04610776,\n",
       "          0.        ,  353.90026054,    0.        ,  110.50881613,\n",
       "          0.        ,    0.        ,  140.78260869,  110.50881613,\n",
       "          0.        ,  264.04610776,    0.        ,    0.        ,\n",
       "          0.        ,    0.        ,    0.        ,    0.        ,\n",
       "          0.        ,    0.        ,  264.04610776,    0.        ,\n",
       "          0.        ,  665.08654513,    0.        ,    0.        ,\n",
       "          0.        ,  264.04610776,  110.50881613,    0.        ,\n",
       "          0.        ,    0.        ,    0.        ,    0.        ,\n",
       "        264.04610776,    0.        ,  110.50881613,    0.        ,\n",
       "          0.        ,    0.        ,    0.        ,  110.50881613,\n",
       "          0.        ,    0.        ,  140.78260869,    0.        ,\n",
       "          0.        ,  140.78260869,    0.        ,    0.        ,\n",
       "          0.        ,    0.        ,  665.08654513,    0.        ,\n",
       "          0.        ,    0.        ,  665.08654513,    0.        ,\n",
       "          0.        ,  264.04610776,  140.78260869,  140.78260869,\n",
       "          0.        ,    0.        ,    0.        ,    0.        ,\n",
       "          0.        ,  140.78260869])"
      ]
     },
     "execution_count": 53,
     "metadata": {},
     "output_type": "execute_result"
    }
   ],
   "source": [
    "y_pred_original"
   ]
  },
  {
   "cell_type": "code",
   "execution_count": 54,
   "id": "ffc453c7",
   "metadata": {},
   "outputs": [],
   "source": [
    "#Converting our result to data frame\n",
    "res = pd.DataFrame(y_pred_original)"
   ]
  },
  {
   "cell_type": "code",
   "execution_count": 55,
   "id": "9d8720e4",
   "metadata": {},
   "outputs": [
    {
     "data": {
      "text/html": [
       "<div>\n",
       "<style scoped>\n",
       "    .dataframe tbody tr th:only-of-type {\n",
       "        vertical-align: middle;\n",
       "    }\n",
       "\n",
       "    .dataframe tbody tr th {\n",
       "        vertical-align: top;\n",
       "    }\n",
       "\n",
       "    .dataframe thead th {\n",
       "        text-align: right;\n",
       "    }\n",
       "</style>\n",
       "<table border=\"1\" class=\"dataframe\">\n",
       "  <thead>\n",
       "    <tr style=\"text-align: right;\">\n",
       "      <th></th>\n",
       "      <th>0</th>\n",
       "    </tr>\n",
       "  </thead>\n",
       "  <tbody>\n",
       "    <tr>\n",
       "      <th>count</th>\n",
       "      <td>318.000000</td>\n",
       "    </tr>\n",
       "    <tr>\n",
       "      <th>mean</th>\n",
       "      <td>101.348242</td>\n",
       "    </tr>\n",
       "    <tr>\n",
       "      <th>std</th>\n",
       "      <td>209.013574</td>\n",
       "    </tr>\n",
       "    <tr>\n",
       "      <th>min</th>\n",
       "      <td>0.000000</td>\n",
       "    </tr>\n",
       "    <tr>\n",
       "      <th>25%</th>\n",
       "      <td>0.000000</td>\n",
       "    </tr>\n",
       "    <tr>\n",
       "      <th>50%</th>\n",
       "      <td>0.000000</td>\n",
       "    </tr>\n",
       "    <tr>\n",
       "      <th>75%</th>\n",
       "      <td>140.782609</td>\n",
       "    </tr>\n",
       "    <tr>\n",
       "      <th>max</th>\n",
       "      <td>1292.335356</td>\n",
       "    </tr>\n",
       "  </tbody>\n",
       "</table>\n",
       "</div>"
      ],
      "text/plain": [
       "                 0\n",
       "count   318.000000\n",
       "mean    101.348242\n",
       "std     209.013574\n",
       "min       0.000000\n",
       "25%       0.000000\n",
       "50%       0.000000\n",
       "75%     140.782609\n",
       "max    1292.335356"
      ]
     },
     "execution_count": 55,
     "metadata": {},
     "output_type": "execute_result"
    }
   ],
   "source": [
    "res.describe()"
   ]
  }
 ],
 "metadata": {
  "kernelspec": {
   "display_name": "Python 3",
   "language": "python",
   "name": "python3"
  },
  "language_info": {
   "codemirror_mode": {
    "name": "ipython",
    "version": 3
   },
   "file_extension": ".py",
   "mimetype": "text/x-python",
   "name": "python",
   "nbconvert_exporter": "python",
   "pygments_lexer": "ipython3",
   "version": "3.8.8"
  }
 },
 "nbformat": 4,
 "nbformat_minor": 5
}
